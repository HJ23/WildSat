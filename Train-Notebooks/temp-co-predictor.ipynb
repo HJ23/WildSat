{
 "cells": [
  {
   "cell_type": "markdown",
   "source": [
    "# Earth's current temperature and CO/CO2 level modeller (predictor) for given date/time.\r\n",
    "\r\n",
    "* Ideally all these dataset should contain data that taken hourly basis.\r\n",
    "* Unfortunately I could not find anything like that.\r\n",
    "* So I used most closest , realistic and scientifically accurate dataset. "
   ],
   "metadata": {}
  },
  {
   "cell_type": "markdown",
   "source": [
    "## First part of this notebook dedicated to training of temperature prediction.\r\n",
    "\r\n",
    "* Dataset used : \r\n",
    "                https://www.climatologylab.org/gridmet.html\r\n",
    "\r\n",
    "### Purpose of training is predicting future values temperature of given location and time/date.\r\n",
    "### As a result we can detect abnormalities from gathered satellite sensor data.\r\n"
   ],
   "metadata": {}
  },
  {
   "cell_type": "code",
   "execution_count": null,
   "source": [
    "!pip3 install sklearn\r\n",
    "!pip3 install xgboost\r\n",
    "!pip3 install pandas\r\n",
    "!pip3 install sklearn"
   ],
   "outputs": [],
   "metadata": {}
  },
  {
   "cell_type": "code",
   "execution_count": 1,
   "source": [
    "import os\r\n",
    "ROOT_PATH=os.path.dirname(os.path.realpath(__file__))\r\n",
    "TEMP_CSV_PATH=os.path.join(ROOT_PATH,\"..\",\"output.csv\")\r\n",
    "EPA_CSV_PATH=os.path.join(ROOT_PATH,\"..\",\"epa_co_clean.csv\")\r\n",
    "TRAIN_TEST_RATIO=0.8"
   ],
   "outputs": [],
   "metadata": {}
  },
  {
   "cell_type": "code",
   "execution_count": 2,
   "source": [
    "from sklearn.feature_selection import SelectKBest\r\n",
    "from sklearn.feature_selection import chi2\r\n",
    "from sklearn.metrics import accuracy_score,mean_squared_error\r\n",
    "import pandas as pd\r\n",
    "from sklearn.ensemble import *\r\n",
    "from sklearn.preprocessing import StandardScaler\r\n",
    "from sklearn.neural_network import MLPRegressor\r\n",
    "from xgboost import *\r\n",
    "import pickle\r\n",
    "from sklearn.pipeline import Pipeline"
   ],
   "outputs": [],
   "metadata": {
    "id": "2UKAPNJxxf-X"
   }
  },
  {
   "cell_type": "code",
   "execution_count": 2,
   "source": [
    "# Read all the data \r\n",
    "df=pd.read_csv(\"output.csv\")\r\n",
    "df.drop([\"Unnamed: 0\",\"radiation\"],inplace=True,axis=1)\r\n",
    "df=df[:][:2000000]"
   ],
   "outputs": [],
   "metadata": {
    "colab": {
     "base_uri": "https://localhost:8080/"
    },
    "id": "pNfEgCG4LbLO",
    "outputId": "41692031-e834-47e0-aaba-3cf0ef535bb7"
   }
  },
  {
   "cell_type": "code",
   "execution_count": 12,
   "source": [
    "df['date_formatted'] = pd.to_datetime(df.date,format=\"%Y%m%d\")\r\n",
    "df['month'] = df[\"date_formatted\"].dt.month\r\n",
    "df['year'] = df[\"date_formatted\"].dt.year\r\n",
    "df['day'] = df[\"date_formatted\"].dt.day\r\n",
    "\r\n",
    "df.drop(['date_formatted'], axis=1,inplace=True)\r\n",
    "df.drop(['date'], axis=1,inplace=True)\r\n",
    "\r\n",
    "Y_train=df[\"max_temp\"].iloc[0: int(TRAIN_TEST_RATIO*len(df))]\r\n",
    "X_train=df.drop(['max_temp'], axis=1).iloc[0: int(TRAIN_TEST_RATIO*len(df))]\r\n",
    "Y_test=df[\"max_temp\"][int(TRAIN_TEST_RATIO*len(df)):]\r\n",
    "X_test=df.drop(['max_temp'], axis=1).iloc[ int(TRAIN_TEST_RATIO*len(df)):]\r\n"
   ],
   "outputs": [],
   "metadata": {
    "id": "X-DDEOFSxrW7"
   }
  },
  {
   "cell_type": "code",
   "execution_count": null,
   "source": [
    "# Feature scaling for Neural Network\r\n",
    "\r\n",
    "nn_pipe = Pipeline([\r\n",
    "        ('scale', StandardScaler()),('NN', MLPRegressor(random_state=1, max_iter=500)) ])"
   ],
   "outputs": [],
   "metadata": {}
  },
  {
   "cell_type": "code",
   "execution_count": null,
   "source": [
    "adab_reg=AdaBoostRegressor()\r\n",
    "random_reg=RandomForestRegressor()\r\n",
    "extra_reg=ExtraTreesRegressor()\r\n",
    "gradient_reg=GradientBoostingRegressor()\r\n",
    "xgb_reg=XGBRegressor()"
   ],
   "outputs": [],
   "metadata": {}
  },
  {
   "cell_type": "code",
   "execution_count": null,
   "source": [
    "adab_reg.fit(X_train,Y_train)\r\n",
    "print(\"AdaGrad finished\")\r\n",
    "random_reg.fit(X_train,Y_train)\r\n",
    "print(\"RandomForest finished\")\r\n",
    "extra_reg.fit(X_train,Y_train)\r\n",
    "print(\"Extratree finished\")\r\n",
    "gradient_reg.fit(X_train,Y_train)\r\n",
    "print(\"Gradient finished\")\r\n",
    "xgb_reg.fit(X_train,Y_train)\r\n",
    "print(\"XGBoost finished\")\r\n",
    "nn_pipe.fit(X_train,Y_train)\r\n",
    "print(\"FullyConnected network finished\")"
   ],
   "outputs": [],
   "metadata": {
    "id": "rj92F-0y8-Al"
   }
  },
  {
   "cell_type": "code",
   "execution_count": 19,
   "source": [
    "predict_ada=adab_reg.predict(X_test)\r\n",
    "predict_random=random_reg.predict(X_test)\r\n",
    "predict_extra=extra_reg.predict(X_test)\r\n",
    "predict_gradient=gradient_reg.predict(X_test)\r\n",
    "predict_xgb=xgb_reg.predict(X_test)\r\n",
    "predict_nn=nn_pipe.predict(X_test)"
   ],
   "outputs": [],
   "metadata": {
    "id": "y66ZuKOb899J"
   }
  },
  {
   "cell_type": "code",
   "execution_count": null,
   "source": [
    "best_model={\"Adaboost\":mean_squared_error(Y_test,predict_ada),\r\n",
    "            \"RandomForest\":mean_squared_error(Y_test,predict_random),\r\n",
    "            \"ExtraTrees\":mean_squared_error(Y_test,predict_extra),\r\n",
    "            \"GradientBoost\":mean_squared_error(Y_test,predict_gradient),\r\n",
    "            \"XGBoost\":mean_squared_error(Y_test,predict_xgb),\r\n",
    "            \"FullyConnected\":mean_squared_error(Y_test,predict_nn)\r\n",
    "            }\r\n",
    "\r\n",
    "print(f\"*** Best performed model is {min(best_model.items(),key=lambda x:x[1])} ***\")\r\n",
    "\r\n",
    "print(f\"ADA : {mean_squared_error(Y_test,predict_ada)}\")\r\n",
    "print(f\"RANDOM : {mean_squared_error(Y_test,predict_random)}\")\r\n",
    "print(f\"EXTRA : {mean_squared_error(Y_test,predict_extra)}\")\r\n",
    "print(f\"GRADIENT : {mean_squared_error(Y_test,predict_gradient)}\")\r\n",
    "print(f\"XGB : {mean_squared_error(Y_test,predict_xgb)}\")\r\n",
    "print(f\"FULLYCONNECTED : {mean_squared_error(Y_test,predict_nn)}\")\r\n"
   ],
   "outputs": [],
   "metadata": {
    "colab": {
     "base_uri": "https://localhost:8080/"
    },
    "id": "BafmyLhK896i",
    "outputId": "2824de40-989e-4e3a-ab29-c09ab5805f44"
   }
  },
  {
   "cell_type": "code",
   "execution_count": null,
   "source": [
    "# Save model weights\r\n",
    "\r\n",
    "pickle.dump(adab_reg,open(os.path.join(ROOT_PATH,\"adaboost.pkl\"),\"wb\"))\r\n",
    "pickle.dump(random_reg,open(os.path.join(ROOT_PATH,\"randomforest.pkl\"),\"wb\"))\r\n",
    "pickle.dump(extra_reg,open(os.path.join(ROOT_PATH,\"extratree.pkl\"),\"wb\"))\r\n",
    "pickle.dump(gradient_reg,open(os.path.join(ROOT_PATH,\"gradientboost.pkl\"),\"wb\"))\r\n",
    "pickle.dump(xgb_reg,open(os.path.join(ROOT_PATH,\"xgboost.pkl\"),\"wb\"))\r\n",
    "pickle.dump(nn_pipe,open(os.path.join(ROOT_PATH,\"fullyconnected.pkl\"),\"wb\"))"
   ],
   "outputs": [],
   "metadata": {}
  },
  {
   "cell_type": "markdown",
   "source": [
    "# Lets improve already trained models with simple ensemble technique"
   ],
   "metadata": {}
  },
  {
   "cell_type": "code",
   "execution_count": 3,
   "source": [
    "def averaged_models(model1,model2,model3,model4,model5,model6,test_input):\r\n",
    "    m1=model1.predict(test_input)\r\n",
    "    m2=model2.predict(test_input)\r\n",
    "    m3=model3.predict(test_input)\r\n",
    "    m4=model4.predict(test_input)\r\n",
    "    m5=model5.predict(test_input)\r\n",
    "    m6=model6.predict(test_input)\r\n",
    "    return (m1+m2+m3+m4+m5+m6)/6\r\n"
   ],
   "outputs": [],
   "metadata": {
    "id": "AeKIEKWKGFNi"
   }
  },
  {
   "cell_type": "code",
   "execution_count": null,
   "source": [
    "avg_predictor=averaged_models(adab_reg,random_reg,extra_reg,gradient_reg,xgb_reg,nn_pipe,X_test)"
   ],
   "outputs": [],
   "metadata": {}
  },
  {
   "cell_type": "code",
   "execution_count": null,
   "source": [],
   "outputs": [],
   "metadata": {}
  },
  {
   "cell_type": "markdown",
   "source": [
    "#"
   ],
   "metadata": {}
  },
  {
   "cell_type": "markdown",
   "source": [
    "# EPA CO/CO2 dataset training\r\n",
    "\r\n",
    "* Dataset used : \r\n",
    "                 https://www.kaggle.com/epa/carbon-monoxide/code\r\n"
   ],
   "metadata": {}
  },
  {
   "cell_type": "code",
   "execution_count": null,
   "source": [
    "df_epa=pd.read_csv(EPA_CSV_PATH)\r\n",
    "df_epa=df_epa[:][:150000]"
   ],
   "outputs": [],
   "metadata": {}
  },
  {
   "cell_type": "code",
   "execution_count": null,
   "source": [
    "Y_train=df_epa[\"arithmetic_mean\"].iloc[0: int(TRAIN_TEST_RATIO*len(df_epa))]\r\n",
    "X_train=df_epa.drop(['arithmetic_mean'], axis=1).iloc[0: int(TRAIN_TEST_RATIO*len(df_epa))]\r\n",
    "Y_test=df_epa[\"arithmetic_mean\"][int(TRAIN_TEST_RATIO*len(df_epa)):]\r\n",
    "X_test=df_epa.drop(['arithmetic_mean'], axis=1).iloc[ int(TRAIN_TEST_RATIO*len(df_epa)):]"
   ],
   "outputs": [],
   "metadata": {}
  },
  {
   "cell_type": "code",
   "execution_count": null,
   "source": [
    "\r\n",
    "nn_pipe = Pipeline([\r\n",
    "        ('scale', StandardScaler()),('NN', MLPRegressor(random_state=1, max_iter=500)) ])"
   ],
   "outputs": [],
   "metadata": {}
  },
  {
   "cell_type": "code",
   "execution_count": null,
   "source": [
    "adab_reg=AdaBoostRegressor()\r\n",
    "random_reg=RandomForestRegressor()\r\n",
    "extra_reg=ExtraTreesRegressor()\r\n",
    "gradient_reg=GradientBoostingRegressor()\r\n",
    "xgb_reg=XGBRegressor()"
   ],
   "outputs": [],
   "metadata": {}
  },
  {
   "cell_type": "code",
   "execution_count": null,
   "source": [
    "adab_reg.fit(X_train,Y_train)\r\n",
    "print(\"AdaGrad finished\")\r\n",
    "random_reg.fit(X_train,Y_train)\r\n",
    "print(\"RandomForest finished\")\r\n",
    "extra_reg.fit(X_train,Y_train)\r\n",
    "print(\"Extratree finished\")\r\n",
    "gradient_reg.fit(X_train,Y_train)\r\n",
    "print(\"Gradient finished\")\r\n",
    "xgb_reg.fit(X_train,Y_train)\r\n",
    "print(\"XGBoost finished\")\r\n",
    "nn_pipe.fit(X_train,Y_train)\r\n",
    "print(\"FullyConnected network finished\")"
   ],
   "outputs": [],
   "metadata": {}
  },
  {
   "cell_type": "code",
   "execution_count": null,
   "source": [
    "best_model={\"Adaboost\":mean_squared_error(Y_test,predict_ada),\r\n",
    "            \"RandomForest\":mean_squared_error(Y_test,predict_random),\r\n",
    "            \"ExtraTrees\":mean_squared_error(Y_test,predict_extra),\r\n",
    "            \"GradientBoost\":mean_squared_error(Y_test,predict_gradient),\r\n",
    "            \"XGBoost\":mean_squared_error(Y_test,predict_xgb),\r\n",
    "            \"FullyConnected\":mean_squared_error(Y_test,predict_nn)\r\n",
    "            }\r\n",
    "\r\n",
    "print(f\"*** Best performed model is {min(best_model.items(),key=lambda x:x[1])} ***\")\r\n",
    "\r\n",
    "print(f\"ADA : {mean_squared_error(Y_test,predict_ada)}\")\r\n",
    "print(f\"RANDOM : {mean_squared_error(Y_test,predict_random)}\")\r\n",
    "print(f\"EXTRA : {mean_squared_error(Y_test,predict_extra)}\")\r\n",
    "print(f\"GRADIENT : {mean_squared_error(Y_test,predict_gradient)}\")\r\n",
    "print(f\"XGB : {mean_squared_error(Y_test,predict_xgb)}\")\r\n",
    "print(f\"FULLYCONNECTED : {mean_squared_error(Y_test,predict_nn)}\")\r\n"
   ],
   "outputs": [],
   "metadata": {}
  },
  {
   "cell_type": "code",
   "execution_count": null,
   "source": [
    "# Save model weights\r\n",
    "\r\n",
    "pickle.dump(adab_reg,open(os.path.join(ROOT_PATH,\"EPA_adaboost.pkl\"),\"wb\"))\r\n",
    "pickle.dump(random_reg,open(os.path.join(ROOT_PATH,\"EPA_randomforest.pkl\"),\"wb\"))\r\n",
    "pickle.dump(extra_reg,open(os.path.join(ROOT_PATH,\"EPA_extratree.pkl\"),\"wb\"))\r\n",
    "pickle.dump(gradient_reg,open(os.path.join(ROOT_PATH,\"EPA_gradientboost.pkl\"),\"wb\"))\r\n",
    "pickle.dump(xgb_reg,open(os.path.join(ROOT_PATH,\"EPA_xgboost.pkl\"),\"wb\"))\r\n",
    "pickle.dump(nn_pipe,open(os.path.join(ROOT_PATH,\"EPA_fullyconnected.pkl\"),\"wb\"))"
   ],
   "outputs": [],
   "metadata": {}
  },
  {
   "cell_type": "code",
   "execution_count": null,
   "source": [
    "avg_predictor=averaged_models(adab_reg,random_reg,extra_reg,gradient_reg,xgb_reg,nn_pipe,X_test)"
   ],
   "outputs": [],
   "metadata": {}
  }
 ],
 "metadata": {
  "colab": {
   "collapsed_sections": [],
   "name": "Untitled1.ipynb",
   "provenance": []
  },
  "kernelspec": {
   "name": "python3",
   "display_name": "Python 3.9.6 64-bit"
  },
  "language_info": {
   "codemirror_mode": {
    "name": "ipython",
    "version": 3
   },
   "file_extension": ".py",
   "mimetype": "text/x-python",
   "name": "python",
   "nbconvert_exporter": "python",
   "pygments_lexer": "ipython3",
   "version": "3.9.6"
  },
  "interpreter": {
   "hash": "96c47712d00385623c850c7622e63e49269c413b1f139109ee6a5d5d798a076e"
  }
 },
 "nbformat": 4,
 "nbformat_minor": 4
}