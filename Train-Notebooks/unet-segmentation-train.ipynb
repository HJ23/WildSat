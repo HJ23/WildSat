{
 "cells": [
  {
   "cell_type": "markdown",
   "source": [
    "#  WildSat U-Net training notebook\r\n",
    "In this notebook you can find U-net segmentation training pipeline.\r\n",
    "\r\n",
    "- U-net Model\r\n",
    "- Preprocessing of data\r\n",
    "- Test outputs\r\n"
   ],
   "metadata": {}
  },
  {
   "cell_type": "code",
   "execution_count": null,
   "source": [
    "!pip3 install torchvision\r\n",
    "!pip3 install torch\r\n",
    "!pip3 install opencv-python-headless\r\n",
    "!pip3 install opencv-contrib-python-headless\r\n",
    "!pip3 install matplotlib\r\n",
    "!pip3 install numpy\r\n",
    "!pip3 install scipy"
   ],
   "outputs": [],
   "metadata": {}
  },
  {
   "cell_type": "code",
   "execution_count": null,
   "source": [
    "import os\r\n",
    "ROOT_PATH=os.path.dirname(os.path.realpath(__file__))\r\n",
    "OUT_PATH=os.path.join(ROOT_PATH, '..',\"unet.pth\")\r\n",
    "DATASET_MAIN_FOLDER=os.path.join(ROOT_PATH,\"..\",\"Wildfire_Dataset\")\r\n",
    "CUDA_ENABLED=False\r\n",
    "LEARNING_RATE=0.007\r\n",
    "BATCH_SIZE=64\r\n",
    "EPOCHS=100\r\n",
    "TRAIN_TEST_RATION=0.8"
   ],
   "outputs": [],
   "metadata": {}
  },
  {
   "cell_type": "code",
   "execution_count": 2,
   "source": [
    "# lets import required libraries\r\n",
    "import torch\r\n",
    "import torchvision as vision\r\n",
    "import cv2\r\n",
    "import numpy as np\r\n",
    "import torchvision.transforms as transform\r\n",
    "import torchvision.datasets as dtst\r\n",
    "import torch.utils as utils\r\n",
    "import os\r\n",
    "from matplotlib import pyplot\r\n",
    "\r\n",
    "# This function will divided dataset into test and train set and will return \r\n",
    "# PyTorch dataloader objects for train and test set.\r\n",
    "#\r\n",
    "# Variables path : Path to dataset\r\n",
    "#           ratio : train test ratio     \r\n",
    "#           batch_size : batch size for dataloader\r\n",
    "def initialize_dataloader(path,ratio,batch_size):\r\n",
    "    trainset_size=int(ratio*(len(os.listdir(path+\"MAIN_DATA\"))))\r\n",
    "    testset_size=len(os.listdir(path+\"MAIN_DATA\"))-trainset_size\r\n",
    "\r\n",
    "    transformation=transform.Compose([transform.Resize((256,512)) ,transform.ToTensor(),transform.Normalize(mean=(0.5,0.5,0.5),std=(0.5,0.5,0.5))])\r\n",
    "    fulldata=dtst.ImageFolder(root=path,transform=transformation)\r\n",
    "    trainset,testset=torch.utils.data.random_split(fulldata,[trainset_size,testset_size])\r\n",
    "    traindataloader=utils.data.DataLoader(trainset,batch_size=batch_size,shuffle=True,num_workers=4)\r\n",
    "    testdataloader=utils.data.DataLoader(testset,batch_size=batch_size,shuffle=True,num_workers=4)\r\n",
    "    return [traindataloader,testdataloader]\r\n",
    "\r\n",
    "# This function can be used to display \r\n",
    "# images and segments side by side.\r\n",
    "def show(image,segment,ground_truth=torch.tensor(1)):\r\n",
    "  f = pyplot.figure(figsize=(16,16))\r\n",
    "  image=(image.cpu().numpy().transpose(1,2,0))\r\n",
    "  segment=(segment.cpu().numpy().transpose(1,2,0))\r\n",
    "  if(ground_truth.size()!=torch.tensor(1).size()):\r\n",
    "    ground_truth=(ground_truth.cpu().numpy().transpose(1,2,0))\r\n",
    "    f.add_subplot(1,3, 1)\r\n",
    "    pyplot.imshow(np.rot90(image,2))\r\n",
    "    f.add_subplot(1,3, 2)\r\n",
    "    pyplot.imshow(np.rot90(segment,2))\r\n",
    "    f.add_subplot(1,3, 3)\r\n",
    "    pyplot.imshow(np.rot90(ground_truth,2))\r\n",
    "  else:\r\n",
    "    f.add_subplot(1,2, 1)\r\n",
    "    pyplot.imshow(np.rot90(image,2))\r\n",
    "    f.add_subplot(1,2, 2)\r\n",
    "    pyplot.imshow(np.rot90(segment,2))\r\n",
    "  pyplot.show()\r\n"
   ],
   "outputs": [],
   "metadata": {}
  },
  {
   "cell_type": "code",
   "execution_count": 3,
   "source": [
    "# Downsampling block of U-Net model\r\n",
    "class Conv_Block(torch.nn.Module):\r\n",
    "  def __init__(self,input_ch,output_ch):\r\n",
    "    super(Conv_Block,self).__init__()\r\n",
    "    self.network=[]\r\n",
    "    self.network+=[ torch.nn.Conv2d(input_ch,output_ch,3,1,padding=1) ,torch.nn.BatchNorm2d(output_ch), torch.nn.ReLU() , \\\r\n",
    "                   torch.nn.Conv2d(output_ch,output_ch,3,1,padding=1) , torch.nn.BatchNorm2d(output_ch) ,torch.nn.ReLU() ]\r\n",
    "    self.network=torch.nn.Sequential(*self.network)\r\n",
    "  def forward(self,input):\r\n",
    "    return self.network(input)\r\n",
    "\r\n",
    "# Upsampling block of U-net model\r\n",
    "class DeConv_Block(torch.nn.Module):\r\n",
    "  def __init__(self,input_ch,output_ch):\r\n",
    "    super(DeConv_Block,self).__init__()\r\n",
    "    self.network=[]\r\n",
    "    self.network+= [ Conv_Block(input_ch,output_ch) ]\r\n",
    "    self.network+= [ torch.nn.ConvTranspose2d(output_ch,output_ch,2,2) ] \r\n",
    "    self.network= torch.nn.Sequential(*self.network)\r\n",
    "  def forward(self,input):\r\n",
    "    return self.network(input)\r\n",
    "\r\n",
    "# Main model that combines both downsampling and upsampling blocks\r\n",
    "# and also has a skip connection.\r\n",
    "class UNet(torch.nn.Module):\r\n",
    "  def __init__(self):\r\n",
    "    super(UNet,self).__init__()\r\n",
    "    self.down_sample1=Conv_Block(3,64)\r\n",
    "    self.down_sample2=Conv_Block(64,128)\r\n",
    "    self.down_sample3=Conv_Block(128,256)\r\n",
    "    self.down_sample4=Conv_Block(256,512)\r\n",
    "    self.up_sample1=Conv_Block(512,512)  # 4\r\n",
    "    self.up_sample2=DeConv_Block(1024,256) #3\r\n",
    "    self.up_sample3=DeConv_Block(512,128) #2\r\n",
    "    self.up_sample4=DeConv_Block(256,64) #1\r\n",
    "    self.out=torch.nn.Sequential( Conv_Block(128,64) , torch.nn.Conv2d(64,3,1) )\r\n",
    "\r\n",
    "  def forward(self,input):\r\n",
    "    a1=self.down_sample1(input)\r\n",
    "    a2=self.down_sample2(torch.nn.MaxPool2d(2,2)(a1))\r\n",
    "    a3=self.down_sample3(torch.nn.MaxPool2d(2,2)(a2))\r\n",
    "    a4=self.down_sample4(torch.nn.MaxPool2d(2,2)(a3))\r\n",
    "    bootleneck=self.up_sample1(a4)\r\n",
    "    b1=self.up_sample2( torch.cat([bootleneck,a4],1) )\r\n",
    "    b2=self.up_sample3( torch.cat([a3,b1],1) )\r\n",
    "    b3=self.up_sample4( torch.cat([a2,b2],1) )\r\n",
    "    out=self.out( torch.cat([a1,b3],1) ) \r\n",
    "    return torch.functional.F.sigmoid(out)\r\n"
   ],
   "outputs": [],
   "metadata": {
    "colab": {
     "base_uri": "https://localhost:8080/",
     "height": 380
    },
    "id": "YylGiaxv5mtV",
    "outputId": "ce0b86aa-d4e9-4220-b2ae-2db21adc7272"
   }
  },
  {
   "cell_type": "code",
   "execution_count": null,
   "source": [
    "\r\n",
    "# Create dataloaders for train and test set.\r\n",
    "input_loader,test_loader=initialize_dataloader(DATASET_MAIN_FOLDER,TRAIN_TEST_RATION,BATCH_SIZE)\r\n",
    "# Create model\r\n",
    "network=UNet()\r\n",
    "\r\n",
    "if CUDA_ENABLED:\r\n",
    "    network=network.cuda()"
   ],
   "outputs": [],
   "metadata": {}
  },
  {
   "cell_type": "code",
   "execution_count": 4,
   "source": [
    "optimizer=torch.optim.Adam(network.parameters(),lr=0.007)\r\n",
    "loss=torch.nn.BCELoss()\r\n",
    "train_history=[]\r\n",
    "test_history=[]\r\n"
   ],
   "outputs": [],
   "metadata": {
    "id": "0IYPPqaDkLYq"
   }
  },
  {
   "cell_type": "code",
   "execution_count": null,
   "source": [
    "# Training loop\r\n",
    "for epoch in range(EPOCHS):\r\n",
    "    network=network.train()\r\n",
    "    for input,_ in input_loader:\r\n",
    "        segment=torch.autograd.Variable( (input[:,:,:,:256]+1)/2)\r\n",
    "        out=torch.autograd.Variable( (input[:,:,:,256:512]+1)/2 )\r\n",
    "        \r\n",
    "        if CUDA_ENABLED:\r\n",
    "            segment=segment.cuda()\r\n",
    "            out=out.cuda()\r\n",
    "\r\n",
    "        loss.zero_grad()\r\n",
    "        optimizer.zero_grad()\r\n",
    "        forward=network(segment)\r\n",
    "        loss_train =loss(forward,out)\r\n",
    "        loss_train.backward()\r\n",
    "        optimizer.step()\r\n",
    "        train_history.append(loss_train.item())\r\n",
    "    # evaluation loop of model\r\n",
    "    network=network.eval()\r\n",
    "    with torch.no_grad():\r\n",
    "        for test,_ in test_loader:\r\n",
    "            segment=torch.autograd.Variable( (test[:,:,:,:256]+1)/2)\r\n",
    "            out=torch.autograd.Variable( (test[:,:,:,256:512]+1)/2 )\r\n",
    "        \r\n",
    "            if CUDA_ENABLED:\r\n",
    "                segment=segment.cuda()\r\n",
    "                out=out.cuda()\r\n",
    "\r\n",
    "            forward=network(segment)\r\n",
    "            test_loss =loss(forward,out)\r\n",
    "            test_history.append(test_loss.item())\r\n",
    "\r\n",
    "    # Draw plot of loss for each 5 epochs\r\n",
    "    if((epoch+1)%20==0):\r\n",
    "        test=next(iter(test_loader))[0]\r\n",
    "        segment=test[0][:,:,:256].unsqueeze(0)+1\r\n",
    "        ground_truth=test[0][:,:,256:]+1\r\n",
    "        \r\n",
    "        if CUDA_ENABLED:\r\n",
    "            segment=segment.cuda()\r\n",
    "            ground_truth=ground_truth.cuda()\r\n",
    "            \r\n",
    "        result=network(segment)[0].detach()\r\n",
    "        show( segment[0],result,ground_truth)\r\n",
    "\r\n",
    "        pyplot.plot(range(epoch),train_history,label=\"train\")\r\n",
    "        pyplot.plot(range(epoch),test_history,label=\"test\")\r\n",
    "        pyplot.show()\r\n",
    "        torch.save(network.state_dict(),OUT_PATH)"
   ],
   "outputs": [],
   "metadata": {
    "colab": {
     "base_uri": "https://localhost:8080/",
     "height": 1000
    },
    "id": "Tr6IDVJw5nAd",
    "outputId": "4785bfca-82d6-4c65-b4ed-72da73f3782b"
   }
  }
 ],
 "metadata": {
  "colab": {
   "collapsed_sections": [],
   "machine_shape": "hm",
   "name": "U_Net_(1).ipynb",
   "provenance": []
  },
  "kernelspec": {
   "display_name": "default:Python",
   "language": "python",
   "name": "conda-env-default-py"
  },
  "language_info": {
   "codemirror_mode": {
    "name": "ipython",
    "version": 3
   },
   "file_extension": ".py",
   "mimetype": "text/x-python",
   "name": "python",
   "nbconvert_exporter": "python",
   "pygments_lexer": "ipython3",
   "version": "3.9.7"
  }
 },
 "nbformat": 4,
 "nbformat_minor": 4
}